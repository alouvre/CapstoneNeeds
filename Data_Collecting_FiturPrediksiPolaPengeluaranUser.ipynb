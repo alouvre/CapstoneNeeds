{
  "nbformat": 4,
  "nbformat_minor": 0,
  "metadata": {
    "colab": {
      "provenance": [],
      "authorship_tag": "ABX9TyP5mpgiMOgb6dTLCAFpEfNI",
      "include_colab_link": true
    },
    "kernelspec": {
      "name": "python3",
      "display_name": "Python 3"
    },
    "language_info": {
      "name": "python"
    }
  },
  "cells": [
    {
      "cell_type": "markdown",
      "metadata": {
        "id": "view-in-github",
        "colab_type": "text"
      },
      "source": [
        "<a href=\"https://colab.research.google.com/github/alouvre/CapstoneNeeds/blob/main/Data_Collecting_FiturPrediksiPolaPengeluaranUser.ipynb\" target=\"_parent\"><img src=\"https://colab.research.google.com/assets/colab-badge.svg\" alt=\"Open In Colab\"/></a>"
      ]
    },
    {
      "cell_type": "code",
      "execution_count": null,
      "metadata": {
        "id": "Vj4leUteJ4hz"
      },
      "outputs": [],
      "source": [
        "# Set Kaggle\n",
        "\n",
        "# menginstall kaggle\n",
        "!pip install -q kaggle\n",
        "# membuat direktori\n",
        "!mkdir ~/.kaggle\n",
        "# menyalin kaggle.json ke dir kaggle\n",
        "!cp kaggle.json ~/.kaggle/\n",
        "# meminta izin untuk akses\n",
        "!chmod 600 ~/.kaggle/kaggle.json\n",
        "\n",
        "!kaggle -h"
      ]
    },
    {
      "cell_type": "code",
      "source": [
        "# import zipfile\n",
        "\n",
        "# # Mengunduh dataset\n",
        "# !kaggle datasets download -d 'shivamb/bank-customer-segmentation'\n",
        "\n",
        "# # Membuat direktori dataset\n",
        "# # !mkdir dataset\n",
        "\n",
        "# # Mengekstraksi file zip\n",
        "# nama_file_zip = 'bank-customer-segmentation.zip'\n",
        "# nama_folder_tujuan = 'dataset'\n",
        "# dataset_zip = zipfile.ZipFile(nama_file_zip,'r')\n",
        "# dataset_zip.extractall('dataset')\n",
        "# dataset_zip.close()\n",
        "\n",
        "# # Memindahkan files ke direktori dataset\n",
        "# !mv bank-customer-segmentation.zip dataset"
      ],
      "metadata": {
        "id": "dF1KiLF4M8nF"
      },
      "execution_count": null,
      "outputs": []
    },
    {
      "cell_type": "code",
      "source": [
        "import pandas as pd\n",
        "\n",
        "# Load dataset from Project folder\n",
        "df = pd.read_csv('dataset/bank_transactions.csv')\n",
        "\n",
        "# To stretch head function output to the notebook width\n",
        "pd.set_option('display.max_columns', None)\n",
        "\n",
        "df.head()"
      ],
      "metadata": {
        "id": "nSkVDH8yOSE4"
      },
      "execution_count": null,
      "outputs": []
    },
    {
      "cell_type": "code",
      "source": [
        "df.shape"
      ],
      "metadata": {
        "id": "UCE4-Pp9R9Xy"
      },
      "execution_count": null,
      "outputs": []
    },
    {
      "cell_type": "code",
      "source": [
        "# df['Credit_Score'].unique()"
      ],
      "metadata": {
        "id": "-ZrwT-GKOwP_"
      },
      "execution_count": null,
      "outputs": []
    },
    {
      "cell_type": "code",
      "source": [
        "# df[[''],['Credit_Score']]"
      ],
      "metadata": {
        "id": "sGpsQmdAXOrA"
      },
      "execution_count": null,
      "outputs": []
    },
    {
      "cell_type": "code",
      "source": [
        "data = df[['CustomerID','CustAccountBalance', 'TransactionAmount (INR)']]\n",
        "data.head()"
      ],
      "metadata": {
        "id": "BmwEAcevZAWC"
      },
      "execution_count": null,
      "outputs": []
    },
    {
      "cell_type": "code",
      "source": [
        "data = data.rename(columns={'CustomerID': 'IDUser', 'CustAccountBalance': 'SaldoUser', 'TransactionAmount (INR)': 'JumlahTransaksi'})\n",
        "data.head()"
      ],
      "metadata": {
        "id": "tacDc_cVcZXa"
      },
      "execution_count": null,
      "outputs": []
    },
    {
      "cell_type": "code",
      "source": [
        "data.info()"
      ],
      "metadata": {
        "id": "ANWcH3BSe9yl"
      },
      "execution_count": null,
      "outputs": []
    },
    {
      "cell_type": "code",
      "source": [
        "# Definisikan kurs pertukaran (contoh: 1 INR = 188,42 IDR)\n",
        "inr_to_idr_exchange_rate = 188.42\n",
        "\n",
        "# Buat kolom baru untuk jumlah transaksi dalam IDR\n",
        "data['JumlahTransaksi'] = data['JumlahTransaksi'].astype(float)\n",
        "data['JumlahTransaksi'] = data['JumlahTransaksi'] * inr_to_idr_exchange_rate\n",
        "\n",
        "# Buat kolom baru untuk saldo pengguna dalam IDR\n",
        "data['SaldoUser'] = data['SaldoUser'].astype(float)\n",
        "data['SaldoUser'] = data['SaldoUser'] * inr_to_idr_exchange_rate"
      ],
      "metadata": {
        "id": "p3EwJlXfdYbV"
      },
      "execution_count": null,
      "outputs": []
    },
    {
      "cell_type": "code",
      "source": [
        "data.head()"
      ],
      "metadata": {
        "id": "IUVCEoKzfdEB"
      },
      "execution_count": null,
      "outputs": []
    },
    {
      "cell_type": "code",
      "source": [
        "pd.options.display.float_format = '{:.0f}'.format\n",
        "# pd.options.display.float_format = None\n",
        "\n",
        "# Mengonversi nilai saldo pengguna dari format ilmiah ke float\n",
        "data['SaldoUser'] = data['SaldoUser'].apply(lambda x: float(f\"{x:.10f}\"))"
      ],
      "metadata": {
        "id": "joR9hSHVfx43"
      },
      "execution_count": null,
      "outputs": []
    },
    {
      "cell_type": "code",
      "source": [
        "data.head()"
      ],
      "metadata": {
        "id": "WFYWJVpjf2JL"
      },
      "execution_count": null,
      "outputs": []
    }
  ]
}